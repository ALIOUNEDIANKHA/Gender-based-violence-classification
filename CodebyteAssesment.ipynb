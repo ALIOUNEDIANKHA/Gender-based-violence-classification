{
  "nbformat": 4,
  "nbformat_minor": 0,
  "metadata": {
    "colab": {
      "provenance": [],
      "collapsed_sections": [],
      "authorship_tag": "ABX9TyOFmdknCoHyMFgaLhOsMUpS",
      "include_colab_link": true
    },
    "kernelspec": {
      "name": "python3",
      "display_name": "Python 3"
    },
    "language_info": {
      "name": "python"
    }
  },
  "cells": [
    {
      "cell_type": "markdown",
      "metadata": {
        "id": "view-in-github",
        "colab_type": "text"
      },
      "source": [
        "<a href=\"https://colab.research.google.com/github/ALIOUNEDIANKHA/Gender-based-violence-classification/blob/main/CodebyteAssesment.ipynb\" target=\"_parent\"><img src=\"https://colab.research.google.com/assets/colab-badge.svg\" alt=\"Open In Colab\"/></a>"
      ]
    },
    {
      "cell_type": "code",
      "source": [
        "def sigmoid(z):\n",
        "    return 1.0 / (1.0 + m.exp(-z))\n",
        "\n",
        "def gradients(x, y, y_hat):\n",
        "\n",
        "    \n",
        "    # Gradient of loss w.r.t weights.\n",
        "    da = x * (y-y_hat)\n",
        "    \n",
        "    # Gradient of loss w.r.t bias.\n",
        "    db = y-y_hat\n",
        "    \n",
        "    return da, db"
      ],
      "metadata": {
        "id": "reyiMRkfcOsI"
      },
      "execution_count": 12,
      "outputs": []
    },
    {
      "cell_type": "code",
      "source": [
        "def train(x, y, a ,b , epochs = 1, lr=1.0):\n",
        "    \n",
        "    # Training loop.\n",
        "    for epoch in range(epochs):\n",
        "            \n",
        "            # Calculating hypothesis/prediction.\n",
        "            y_hat = sigmoid(a*x +b)\n",
        "            \n",
        "            # Getting the gradients of loss w.r.t parameters.\n",
        "            da, db = gradients(x, y, y_hat)\n",
        "            \n",
        "            # Updating the parameters.\n",
        "            a -= lr*da\n",
        "            b -= lr*db\n",
        "        \n",
        "    return a, b\n"
      ],
      "metadata": {
        "id": "FcjXHZ9PdFzI"
      },
      "execution_count": 13,
      "outputs": []
    },
    {
      "cell_type": "code",
      "execution_count": 19,
      "metadata": {
        "colab": {
          "base_uri": "https://localhost:8080/"
        },
        "id": "0_oyFQDwbz_0",
        "outputId": "3bc5027c-99ca-4074-a61a-03a0f4166eb7"
      },
      "outputs": [
        {
          "output_type": "stream",
          "name": "stdout",
          "text": [
            "(0.8807970779778823, 0.8807970779778823)\n",
            "(7.299999901335703, 6.699999955152592)\n"
          ]
        }
      ],
      "source": [
        "import math as m\n",
        "def LogitRegression(arr):\n",
        "  x,y,a,b = arr\n",
        "\n",
        "  return train(x,y,a,b)\n",
        "# keep this function call here\n",
        "print (LogitRegression([1 , 1 , 1 ,1]))\n",
        "print (LogitRegression([2.2 , 0.0 , 5.1 ,5.7]))"
      ]
    },
    {
      "cell_type": "code",
      "source": [
        "from collections import defaultdict\n",
        "\n",
        "\n",
        "#use an algorithm like breadth-first search to discover all the paths in the graph.\n",
        "def DFS(G,v,seen=None,path=None):\n",
        "    if seen is None: seen = []\n",
        "    if path is None: path = [v]\n",
        "\n",
        "    seen.append(v)\n",
        "\n",
        "    paths = []\n",
        "    for t in G[v]:\n",
        "        if t not in seen:\n",
        "            t_path = path + [t]\n",
        "            paths.append(tuple(t_path))\n",
        "            paths.extend(DFS(G, t, seen[:], t_path))\n",
        "    return paths\n",
        "\n",
        "def FarthestNodes(strArr):\n",
        "  #code goes here\n",
        "  edges = []\n",
        "  for i in strArr:\n",
        "    edges.append([i.split('-')[0],i.split('-')[1]])\n",
        "  # Build graph dictionary\n",
        "  G = defaultdict(list)\n",
        "  for (s,t) in edges:\n",
        "      G[s].append(t)\n",
        "      G[t].append(s)\n",
        "  all_longest_path = []\n",
        "  for i in G.keys():\n",
        "    all_paths = DFS(G, i)\n",
        "    max_len   = max(len(p) for p in all_paths)\n",
        "    all_longest_path.append(max_len)\n",
        "    \n",
        "    # Output\n",
        "  max_len_of_all_longest_path   = max( all_longest_path)\n",
        "  return max_len_of_all_longest_path - 1\n",
        "# keep this function call here\n",
        "print (FarthestNodes ([\"b-a\",\"c-e\",\"b-c\",\"d-c\"] ))"
      ],
      "metadata": {
        "id": "ggQOjsel8hON",
        "colab": {
          "base_uri": "https://localhost:8080/"
        },
        "outputId": "6c123298-e644-4d84-e46e-0408e10acdf9"
      },
      "execution_count": 18,
      "outputs": [
        {
          "output_type": "stream",
          "name": "stdout",
          "text": [
            "3\n"
          ]
        }
      ]
    },
    {
      "cell_type": "code",
      "source": [
        "strArr=[\"b-e\",\"b-c\",\"c-d\",\"a-b\",\"e-f\"]\n",
        "edges = []\n",
        "for i in strArr:\n",
        "  edges.append([i.split('-')[0],i.split('-')[1]])\n",
        "edges"
      ],
      "metadata": {
        "colab": {
          "base_uri": "https://localhost:8080/"
        },
        "id": "dyyZ-vZkpUSY",
        "outputId": "ec2c24f8-0993-4719-ffab-f8948340eea8"
      },
      "execution_count": 17,
      "outputs": [
        {
          "output_type": "execute_result",
          "data": {
            "text/plain": [
              "[['b', 'e'], ['b', 'c'], ['c', 'd'], ['a', 'b'], ['e', 'f']]"
            ]
          },
          "metadata": {},
          "execution_count": 17
        }
      ]
    },
    {
      "cell_type": "code",
      "source": [],
      "metadata": {
        "id": "4fWpWen_pjHs"
      },
      "execution_count": null,
      "outputs": []
    }
  ]
}